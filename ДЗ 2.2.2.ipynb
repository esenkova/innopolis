{
 "cells": [
  {
   "cell_type": "code",
   "execution_count": 2,
   "id": "a4952623",
   "metadata": {},
   "outputs": [],
   "source": [
    "import numpy as np"
   ]
  },
  {
   "cell_type": "code",
   "execution_count": 66,
   "id": "8ced136f",
   "metadata": {},
   "outputs": [
    {
     "data": {
      "text/plain": [
       "array([(5.1, 3.5, 1.4, 0.2, b'Iris-setosa'),\n",
       "       (4.9, 3. , 1.4, 0.2, b'Iris-setosa'),\n",
       "       (4.7, 3.2, 1.3, 0.2, b'Iris-setosa'),\n",
       "       (4.6, 3.1, 1.5, 0.2, b'Iris-setosa'),\n",
       "       (5. , 3.6, 1.4, 0.2, b'Iris-setosa'),\n",
       "       (5.4, 3.9, 1.7, 0.4, b'Iris-setosa'),\n",
       "       (4.6, 3.4, 1.4, 0.3, b'Iris-setosa'),\n",
       "       (5. , 3.4, 1.5, 0.2, b'Iris-setosa'),\n",
       "       (4.4, 2.9, 1.4, 0.2, b'Iris-setosa'),\n",
       "       (4.9, 3.1, 1.5, 0.1, b'Iris-setosa'),\n",
       "       (5.4, 3.7, 1.5, 0.2, b'Iris-setosa'),\n",
       "       (4.8, 3.4, 1.6, 0.2, b'Iris-setosa'),\n",
       "       (4.8, 3. , 1.4, 0.1, b'Iris-setosa'),\n",
       "       (4.3, 3. , 1.1, 0.1, b'Iris-setosa'),\n",
       "       (5.8, 4. , 1.2, 0.2, b'Iris-setosa'),\n",
       "       (5.7, 4.4, 1.5, 0.4, b'Iris-setosa'),\n",
       "       (5.4, 3.9, 1.3, 0.4, b'Iris-setosa'),\n",
       "       (5.1, 3.5, 1.4, 0.3, b'Iris-setosa'),\n",
       "       (5.7, 3.8, 1.7, 0.3, b'Iris-setosa'),\n",
       "       (5.1, 3.8, 1.5, 0.3, b'Iris-setosa'),\n",
       "       (5.4, 3.4, 1.7, 0.2, b'Iris-setosa'),\n",
       "       (5.1, 3.7, 1.5, 0.4, b'Iris-setosa'),\n",
       "       (4.6, 3.6, 1. , 0.2, b'Iris-setosa'),\n",
       "       (5.1, 3.3, 1.7, 0.5, b'Iris-setosa'),\n",
       "       (4.8, 3.4, 1.9, 0.2, b'Iris-setosa'),\n",
       "       (5. , 3. , 1.6, 0.2, b'Iris-setosa'),\n",
       "       (5. , 3.4, 1.6, 0.4, b'Iris-setosa'),\n",
       "       (5.2, 3.5, 1.5, 0.2, b'Iris-setosa'),\n",
       "       (5.2, 3.4, 1.4, 0.2, b'Iris-setosa'),\n",
       "       (4.7, 3.2, 1.6, 0.2, b'Iris-setosa'),\n",
       "       (4.8, 3.1, 1.6, 0.2, b'Iris-setosa'),\n",
       "       (5.4, 3.4, 1.5, 0.4, b'Iris-setosa'),\n",
       "       (5.2, 4.1, 1.5, 0.1, b'Iris-setosa'),\n",
       "       (5.5, 4.2, 1.4, 0.2, b'Iris-setosa'),\n",
       "       (4.9, 3.1, 1.5, 0.1, b'Iris-setosa'),\n",
       "       (5. , 3.2, 1.2, 0.2, b'Iris-setosa'),\n",
       "       (5.5, 3.5, 1.3, 0.2, b'Iris-setosa'),\n",
       "       (4.9, 3.1, 1.5, 0.1, b'Iris-setosa'),\n",
       "       (4.4, 3. , 1.3, 0.2, b'Iris-setosa'),\n",
       "       (5.1, 3.4, 1.5, 0.2, b'Iris-setosa'),\n",
       "       (5. , 3.5, 1.3, 0.3, b'Iris-setosa'),\n",
       "       (4.5, 2.3, 1.3, 0.3, b'Iris-setosa'),\n",
       "       (4.4, 3.2, 1.3, 0.2, b'Iris-setosa'),\n",
       "       (5. , 3.5, 1.6, 0.6, b'Iris-setosa'),\n",
       "       (5.1, 3.8, 1.9, 0.4, b'Iris-setosa'),\n",
       "       (4.8, 3. , 1.4, 0.3, b'Iris-setosa'),\n",
       "       (5.1, 3.8, 1.6, 0.2, b'Iris-setosa'),\n",
       "       (4.6, 3.2, 1.4, 0.2, b'Iris-setosa'),\n",
       "       (5.3, 3.7, 1.5, 0.2, b'Iris-setosa'),\n",
       "       (5. , 3.3, 1.4, 0.2, b'Iris-setosa'),\n",
       "       (7. , 3.2, 4.7, 1.4, b'Iris-versicolor'),\n",
       "       (6.4, 3.2, 4.5, 1.5, b'Iris-versicolor'),\n",
       "       (6.9, 3.1, 4.9, 1.5, b'Iris-versicolor'),\n",
       "       (5.5, 2.3, 4. , 1.3, b'Iris-versicolor'),\n",
       "       (6.5, 2.8, 4.6, 1.5, b'Iris-versicolor'),\n",
       "       (5.7, 2.8, 4.5, 1.3, b'Iris-versicolor'),\n",
       "       (6.3, 3.3, 4.7, 1.6, b'Iris-versicolor'),\n",
       "       (4.9, 2.4, 3.3, 1. , b'Iris-versicolor'),\n",
       "       (6.6, 2.9, 4.6, 1.3, b'Iris-versicolor'),\n",
       "       (5.2, 2.7, 3.9, 1.4, b'Iris-versicolor'),\n",
       "       (5. , 2. , 3.5, 1. , b'Iris-versicolor'),\n",
       "       (5.9, 3. , 4.2, 1.5, b'Iris-versicolor'),\n",
       "       (6. , 2.2, 4. , 1. , b'Iris-versicolor'),\n",
       "       (6.1, 2.9, 4.7, 1.4, b'Iris-versicolor'),\n",
       "       (5.6, 2.9, 3.6, 1.3, b'Iris-versicolor'),\n",
       "       (6.7, 3.1, 4.4, 1.4, b'Iris-versicolor'),\n",
       "       (5.6, 3. , 4.5, 1.5, b'Iris-versicolor'),\n",
       "       (5.8, 2.7, 4.1, 1. , b'Iris-versicolor'),\n",
       "       (6.2, 2.2, 4.5, 1.5, b'Iris-versicolor'),\n",
       "       (5.6, 2.5, 3.9, 1.1, b'Iris-versicolor'),\n",
       "       (5.9, 3.2, 4.8, 1.8, b'Iris-versicolor'),\n",
       "       (6.1, 2.8, 4. , 1.3, b'Iris-versicolor'),\n",
       "       (6.3, 2.5, 4.9, 1.5, b'Iris-versicolor'),\n",
       "       (6.1, 2.8, 4.7, 1.2, b'Iris-versicolor'),\n",
       "       (6.4, 2.9, 4.3, 1.3, b'Iris-versicolor'),\n",
       "       (6.6, 3. , 4.4, 1.4, b'Iris-versicolor'),\n",
       "       (6.8, 2.8, 4.8, 1.4, b'Iris-versicolor'),\n",
       "       (6.7, 3. , 5. , 1.7, b'Iris-versicolor'),\n",
       "       (6. , 2.9, 4.5, 1.5, b'Iris-versicolor'),\n",
       "       (5.7, 2.6, 3.5, 1. , b'Iris-versicolor'),\n",
       "       (5.5, 2.4, 3.8, 1.1, b'Iris-versicolor'),\n",
       "       (5.5, 2.4, 3.7, 1. , b'Iris-versicolor'),\n",
       "       (5.8, 2.7, 3.9, 1.2, b'Iris-versicolor'),\n",
       "       (6. , 2.7, 5.1, 1.6, b'Iris-versicolor'),\n",
       "       (5.4, 3. , 4.5, 1.5, b'Iris-versicolor'),\n",
       "       (6. , 3.4, 4.5, 1.6, b'Iris-versicolor'),\n",
       "       (6.7, 3.1, 4.7, 1.5, b'Iris-versicolor'),\n",
       "       (6.3, 2.3, 4.4, 1.3, b'Iris-versicolor'),\n",
       "       (5.6, 3. , 4.1, 1.3, b'Iris-versicolor'),\n",
       "       (5.5, 2.5, 4. , 1.3, b'Iris-versicolor'),\n",
       "       (5.5, 2.6, 4.4, 1.2, b'Iris-versicolor'),\n",
       "       (6.1, 3. , 4.6, 1.4, b'Iris-versicolor'),\n",
       "       (5.8, 2.6, 4. , 1.2, b'Iris-versicolor'),\n",
       "       (5. , 2.3, 3.3, 1. , b'Iris-versicolor'),\n",
       "       (5.6, 2.7, 4.2, 1.3, b'Iris-versicolor'),\n",
       "       (5.7, 3. , 4.2, 1.2, b'Iris-versicolor'),\n",
       "       (5.7, 2.9, 4.2, 1.3, b'Iris-versicolor'),\n",
       "       (6.2, 2.9, 4.3, 1.3, b'Iris-versicolor'),\n",
       "       (5.1, 2.5, 3. , 1.1, b'Iris-versicolor'),\n",
       "       (5.7, 2.8, 4.1, 1.3, b'Iris-versicolor'),\n",
       "       (6.3, 3.3, 6. , 2.5, b'Iris-virginica'),\n",
       "       (5.8, 2.7, 5.1, 1.9, b'Iris-virginica'),\n",
       "       (7.1, 3. , 5.9, 2.1, b'Iris-virginica'),\n",
       "       (6.3, 2.9, 5.6, 1.8, b'Iris-virginica'),\n",
       "       (6.5, 3. , 5.8, 2.2, b'Iris-virginica'),\n",
       "       (7.6, 3. , 6.6, 2.1, b'Iris-virginica'),\n",
       "       (4.9, 2.5, 4.5, 1.7, b'Iris-virginica'),\n",
       "       (7.3, 2.9, 6.3, 1.8, b'Iris-virginica'),\n",
       "       (6.7, 2.5, 5.8, 1.8, b'Iris-virginica'),\n",
       "       (7.2, 3.6, 6.1, 2.5, b'Iris-virginica'),\n",
       "       (6.5, 3.2, 5.1, 2. , b'Iris-virginica'),\n",
       "       (6.4, 2.7, 5.3, 1.9, b'Iris-virginica'),\n",
       "       (6.8, 3. , 5.5, 2.1, b'Iris-virginica'),\n",
       "       (5.7, 2.5, 5. , 2. , b'Iris-virginica'),\n",
       "       (5.8, 2.8, 5.1, 2.4, b'Iris-virginica'),\n",
       "       (6.4, 3.2, 5.3, 2.3, b'Iris-virginica'),\n",
       "       (6.5, 3. , 5.5, 1.8, b'Iris-virginica'),\n",
       "       (7.7, 3.8, 6.7, 2.2, b'Iris-virginica'),\n",
       "       (7.7, 2.6, 6.9, 2.3, b'Iris-virginica'),\n",
       "       (6. , 2.2, 5. , 1.5, b'Iris-virginica'),\n",
       "       (6.9, 3.2, 5.7, 2.3, b'Iris-virginica'),\n",
       "       (5.6, 2.8, 4.9, 2. , b'Iris-virginica'),\n",
       "       (7.7, 2.8, 6.7, 2. , b'Iris-virginica'),\n",
       "       (6.3, 2.7, 4.9, 1.8, b'Iris-virginica'),\n",
       "       (6.7, 3.3, 5.7, 2.1, b'Iris-virginica'),\n",
       "       (7.2, 3.2, 6. , 1.8, b'Iris-virginica'),\n",
       "       (6.2, 2.8, 4.8, 1.8, b'Iris-virginica'),\n",
       "       (6.1, 3. , 4.9, 1.8, b'Iris-virginica'),\n",
       "       (6.4, 2.8, 5.6, 2.1, b'Iris-virginica'),\n",
       "       (7.2, 3. , 5.8, 1.6, b'Iris-virginica'),\n",
       "       (7.4, 2.8, 6.1, 1.9, b'Iris-virginica'),\n",
       "       (7.9, 3.8, 6.4, 2. , b'Iris-virginica'),\n",
       "       (6.4, 2.8, 5.6, 2.2, b'Iris-virginica'),\n",
       "       (6.3, 2.8, 5.1, 1.5, b'Iris-virginica'),\n",
       "       (6.1, 2.6, 5.6, 1.4, b'Iris-virginica'),\n",
       "       (7.7, 3. , 6.1, 2.3, b'Iris-virginica'),\n",
       "       (6.3, 3.4, 5.6, 2.4, b'Iris-virginica'),\n",
       "       (6.4, 3.1, 5.5, 1.8, b'Iris-virginica'),\n",
       "       (6. , 3. , 4.8, 1.8, b'Iris-virginica'),\n",
       "       (6.9, 3.1, 5.4, 2.1, b'Iris-virginica'),\n",
       "       (6.7, 3.1, 5.6, 2.4, b'Iris-virginica'),\n",
       "       (6.9, 3.1, 5.1, 2.3, b'Iris-virginica'),\n",
       "       (5.8, 2.7, 5.1, 1.9, b'Iris-virginica'),\n",
       "       (6.8, 3.2, 5.9, 2.3, b'Iris-virginica'),\n",
       "       (6.7, 3.3, 5.7, 2.5, b'Iris-virginica'),\n",
       "       (6.7, 3. , 5.2, 2.3, b'Iris-virginica'),\n",
       "       (6.3, 2.5, 5. , 1.9, b'Iris-virginica'),\n",
       "       (6.5, 3. , 5.2, 2. , b'Iris-virginica'),\n",
       "       (6.2, 3.4, 5.4, 2.3, b'Iris-virginica'),\n",
       "       (5.9, 3. , 5.1, 1.8, b'Iris-virginica')],\n",
       "      dtype=[('A', '<f8'), ('B', '<f8'), ('C', '<f8'), ('D', '<f8'), ('E', 'S20')])"
      ]
     },
     "execution_count": 66,
     "metadata": {},
     "output_type": "execute_result"
    }
   ],
   "source": [
    "url = 'https://archive.ics.uci.edu/ml/machine-learning-databases/iris/iris.data'\n",
    "species = np.genfromtxt(url, dtype=[('A','f8'),('B','f8'),('C','f8'), ('D','f8'), ('E', 'S20')],delimiter=',')\n",
    "species"
   ]
  },
  {
   "cell_type": "code",
   "execution_count": 64,
   "id": "6afa3e3c",
   "metadata": {},
   "outputs": [
    {
     "name": "stdout",
     "output_type": "stream",
     "text": [
      "4.3\n",
      "2.0\n",
      "1.0\n",
      "0.1\n"
     ]
    }
   ],
   "source": [
    "print(species['A'].min())\n",
    "print(species['B'].min())\n",
    "print(species['C'].min())\n",
    "print(species['D'].min())"
   ]
  },
  {
   "cell_type": "code",
   "execution_count": 45,
   "id": "3c156cdc",
   "metadata": {},
   "outputs": [
    {
     "name": "stdout",
     "output_type": "stream",
     "text": [
      "7.9\n",
      "4.4\n",
      "6.9\n",
      "2.5\n"
     ]
    }
   ],
   "source": [
    "print(species['A'].max())\n",
    "print(species['B'].max())\n",
    "print(species['C'].max())\n",
    "print(species['D'].max())"
   ]
  },
  {
   "cell_type": "code",
   "execution_count": 49,
   "id": "8b583a4d",
   "metadata": {},
   "outputs": [
    {
     "name": "stdout",
     "output_type": "stream",
     "text": [
      "5.8\n",
      "3.0\n",
      "4.35\n",
      "1.3\n"
     ]
    }
   ],
   "source": [
    "print(np.median(species['A']))\n",
    "print(np.median(species['B']))\n",
    "print(np.median(species['C']))\n",
    "print(np.median(species['D']))"
   ]
  },
  {
   "cell_type": "code",
   "execution_count": 50,
   "id": "c4d6e3fe",
   "metadata": {},
   "outputs": [
    {
     "name": "stdout",
     "output_type": "stream",
     "text": [
      "5.843333333333334\n",
      "3.0540000000000003\n",
      "3.758666666666666\n",
      "1.1986666666666668\n"
     ]
    }
   ],
   "source": [
    "print(species['A'].mean())\n",
    "print(species['B'].mean())\n",
    "print(species['C'].mean())\n",
    "print(species['D'].mean())"
   ]
  },
  {
   "cell_type": "code",
   "execution_count": 51,
   "id": "b62b1933",
   "metadata": {},
   "outputs": [
    {
     "name": "stdout",
     "output_type": "stream",
     "text": [
      "5.1\n",
      "2.8\n",
      "1.6\n",
      "0.3\n"
     ]
    }
   ],
   "source": [
    "print(np.percentile(species['A'], 25))\n",
    "print(np.percentile(species['B'], 25))\n",
    "print(np.percentile(species['C'], 25))\n",
    "print(np.percentile(species['D'], 25))"
   ]
  },
  {
   "cell_type": "code",
   "execution_count": 52,
   "id": "36bd5cd4",
   "metadata": {},
   "outputs": [
    {
     "name": "stdout",
     "output_type": "stream",
     "text": [
      "6.4\n",
      "3.3\n",
      "5.1\n",
      "1.8\n"
     ]
    }
   ],
   "source": [
    "print(np.percentile(species['A'], 75))\n",
    "print(np.percentile(species['B'], 75))\n",
    "print(np.percentile(species['C'], 75))\n",
    "print(np.percentile(species['D'], 75))"
   ]
  },
  {
   "cell_type": "code",
   "execution_count": 53,
   "id": "7b927438",
   "metadata": {},
   "outputs": [
    {
     "name": "stderr",
     "output_type": "stream",
     "text": [
      "Matplotlib is building the font cache; this may take a moment.\n"
     ]
    }
   ],
   "source": [
    "%matplotlib inline\n",
    "import matplotlib.pyplot as plt\n",
    "import seaborn; seaborn.set()  "
   ]
  },
  {
   "cell_type": "code",
   "execution_count": 55,
   "id": "2c953f20",
   "metadata": {},
   "outputs": [
    {
     "data": {
      "text/plain": [
       "(array([ 9., 23., 14., 27., 16., 26., 18.,  6.,  5.,  6.]),\n",
       " array([4.3 , 4.66, 5.02, 5.38, 5.74, 6.1 , 6.46, 6.82, 7.18, 7.54, 7.9 ]),\n",
       " <BarContainer object of 10 artists>)"
      ]
     },
     "execution_count": 55,
     "metadata": {},
     "output_type": "execute_result"
    },
    {
     "data": {
      "image/png": "[encoded data removed]",
      "text/plain": [
       "<Figure size 432x288 with 1 Axes>"
      ]
     },
     "metadata": {},
     "output_type": "display_data"
    }
   ],
   "source": [
    "plt.hist(species['A'])"
   ]
  },
  {
   "cell_type": "code",
   "execution_count": 56,
   "id": "a3273488",
   "metadata": {},
   "outputs": [
    {
     "data": {
      "text/plain": [
       "(array([ 4.,  7., 22., 24., 38., 31.,  9., 11.,  2.,  2.]),\n",
       " array([2.  , 2.24, 2.48, 2.72, 2.96, 3.2 , 3.44, 3.68, 3.92, 4.16, 4.4 ]),\n",
       " <BarContainer object of 10 artists>)"
      ]
     },
     "execution_count": 56,
     "metadata": {},
     "output_type": "execute_result"
    },
    {
     "data": {
      "image/png": "[encoded data removed]",
      "text/plain": [
       "<Figure size 432x288 with 1 Axes>"
      ]
     },
     "metadata": {},
     "output_type": "display_data"
    }
   ],
   "source": [
    "plt.hist(species['B'])"
   ]
  },
  {
   "cell_type": "code",
   "execution_count": 57,
   "id": "56970ac6",
   "metadata": {},
   "outputs": [
    {
     "data": {
      "text/plain": [
       "(array([37., 13.,  0.,  3.,  8., 26., 29., 18., 11.,  5.]),\n",
       " array([1.  , 1.59, 2.18, 2.77, 3.36, 3.95, 4.54, 5.13, 5.72, 6.31, 6.9 ]),\n",
       " <BarContainer object of 10 artists>)"
      ]
     },
     "execution_count": 57,
     "metadata": {},
     "output_type": "execute_result"
    },
    {
     "data": {
      "image/png": "[encoded data removed]",
      "text/plain": [
       "<Figure size 432x288 with 1 Axes>"
      ]
     },
     "metadata": {},
     "output_type": "display_data"
    }
   ],
   "source": [
    "plt.hist(species['C'])"
   ]
  },
  {
   "cell_type": "code",
   "execution_count": 58,
   "id": "2fc8ff05",
   "metadata": {},
   "outputs": [
    {
     "data": {
      "text/plain": [
       "(array([41.,  8.,  1.,  7.,  8., 33.,  6., 23.,  9., 14.]),\n",
       " array([0.1 , 0.34, 0.58, 0.82, 1.06, 1.3 , 1.54, 1.78, 2.02, 2.26, 2.5 ]),\n",
       " <BarContainer object of 10 artists>)"
      ]
     },
     "execution_count": 58,
     "metadata": {},
     "output_type": "execute_result"
    },
    {
     "data": {
      "image/png": "[encoded data removed]",
      "text/plain": [
       "<Figure size 432x288 with 1 Axes>"
      ]
     },
     "metadata": {},
     "output_type": "display_data"
    }
   ],
   "source": [
    "plt.hist(species['D'])"
   ]
  },
  {
   "cell_type": "code",
   "execution_count": 93,
   "id": "7b651c71",
   "metadata": {},
   "outputs": [
    {
     "data": {
      "text/plain": [
       "[[b'Iris-setosa', 4.3, 5.8, 5.0, 5.006, 4.8, 5.2],\n",
       " [b'Iris-versicolor', 4.9, 7.0, 5.9, 5.936, 5.6, 6.3],\n",
       " [b'Iris-virginica', 4.9, 7.9, 6.5, 6.587999999999998, 6.225, 6.9]]"
      ]
     },
     "execution_count": 93,
     "metadata": {},
     "output_type": "execute_result"
    }
   ],
   "source": [
    "grp_col = species['E']\n",
    "num_col = species['A']\n",
    "res = []\n",
    "for val in np.unique(grp_col):\n",
    "    res.append( [val, num_col[ grp_col == val].min(), \n",
    "                      num_col[grp_col == val].max(),\n",
    "                      np.median(num_col[grp_col == val]),\n",
    "                      num_col[ grp_col == val].mean(),\n",
    "                      np.percentile(num_col[grp_col == val], 25),\n",
    "                      np.percentile(num_col[grp_col == val], 75)\n",
    "                 ])\n",
    "res"
   ]
  },
  {
   "cell_type": "code",
   "execution_count": 100,
   "id": "4bf36d1c",
   "metadata": {},
   "outputs": [
    {
     "data": {
      "image/png": "[encoded data removed]",
      "text/plain": [
       "<Figure size 432x288 with 1 Axes>"
      ]
     },
     "metadata": {},
     "output_type": "display_data"
    }
   ],
   "source": [
    "grp_col = species['E']\n",
    "num_col = species['A']\n",
    "\n",
    "for val in np.unique(grp_col):\n",
    "    plt.hist(num_col[ grp_col == val])\n",
    "       "
   ]
  }
 ],
 "metadata": {
  "kernelspec": {
   "display_name": "Python 3",
   "language": "python",
   "name": "python3"
  },
  "language_info": {
   "codemirror_mode": {
    "name": "ipython",
    "version": 3
   },
   "file_extension": ".py",
   "mimetype": "text/x-python",
   "name": "python",
   "nbconvert_exporter": "python",
   "pygments_lexer": "ipython3",
   "version": "3.8.8"
  }
 },
 "nbformat": 4,
 "nbformat_minor": 5
}
