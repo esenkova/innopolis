{
 "cells": [
  {
   "cell_type": "code",
   "execution_count": 1,
   "id": "6f86f23a",
   "metadata": {},
   "outputs": [],
   "source": [
    "import pandas as pd\n",
    "import numpy as np\n",
    "%matplotlib inline\n",
    "\n",
    "from statsmodels.tsa.statespace.sarimax import SARIMAX\n",
    "\n",
    "from statsmodels.graphics.tsaplots import plot_acf, plot_pacf \n",
    "from statsmodels.tsa.seasonal import seasonal_decompose      \n",
    "from pmdarima import auto_arima                              \n",
    "\n",
    "\n",
    "import warnings\n",
    "warnings.filterwarnings(\"ignore\")"
   ]
  },
  {
   "cell_type": "code",
   "execution_count": 2,
   "id": "92d4dad0",
   "metadata": {},
   "outputs": [],
   "source": [
    "dfi = pd.read_csv(r'D:\\1 Катя\\1 курсы\\Аналитика\\Итоговый проект\\owid-covid-data.csv')"
   ]
  },
  {
   "cell_type": "code",
   "execution_count": 4,
   "id": "626da5c0",
   "metadata": {},
   "outputs": [
    {
     "data": {
      "text/plain": [
       "iso_code                                    object\n",
       "continent                                   object\n",
       "location                                    object\n",
       "date                                        object\n",
       "total_cases                                float64\n",
       "                                            ...   \n",
       "human_development_index                    float64\n",
       "excess_mortality_cumulative_absolute       float64\n",
       "excess_mortality_cumulative                float64\n",
       "excess_mortality                           float64\n",
       "excess_mortality_cumulative_per_million    float64\n",
       "Length: 67, dtype: object"
      ]
     },
     "execution_count": 4,
     "metadata": {},
     "output_type": "execute_result"
    }
   ],
   "source": [
    "dfi.dtypes"
   ]
  },
  {
   "cell_type": "code",
   "execution_count": 7,
   "id": "e651c125",
   "metadata": {},
   "outputs": [],
   "source": [
    "dfi['date'] = pd.to_datetime(dfi.date)"
   ]
  },
  {
   "cell_type": "code",
   "execution_count": 9,
   "id": "44f441cd",
   "metadata": {},
   "outputs": [
    {
     "data": {
      "text/plain": [
       "iso_code                                           object\n",
       "continent                                          object\n",
       "location                                           object\n",
       "date                                       datetime64[ns]\n",
       "total_cases                                       float64\n",
       "                                                ...      \n",
       "human_development_index                           float64\n",
       "excess_mortality_cumulative_absolute              float64\n",
       "excess_mortality_cumulative                       float64\n",
       "excess_mortality                                  float64\n",
       "excess_mortality_cumulative_per_million           float64\n",
       "Length: 67, dtype: object"
      ]
     },
     "execution_count": 9,
     "metadata": {},
     "output_type": "execute_result"
    }
   ],
   "source": [
    "dfi.dtypes"
   ]
  },
  {
   "cell_type": "code",
   "execution_count": 16,
   "id": "fb1134d2",
   "metadata": {},
   "outputs": [],
   "source": [
    "df=dfi[dfi.location=='Kazakhstan'][dfi.date<'2021-04-01']"
   ]
  },
  {
   "cell_type": "code",
   "execution_count": 17,
   "id": "ba1bd0e5",
   "metadata": {},
   "outputs": [],
   "source": [
    "df=df[['date', 'total_cases', 'new_cases', 'total_deaths', 'new_deaths', 'new_tests', 'total_tests', \n",
    "      'total_vaccinations', 'people_vaccinated', 'people_fully_vaccinated', 'population', 'population_density', \n",
    "      'median_age', 'aged_65_older', 'aged_70_older', 'diabetes_prevalence', 'female_smokers', 'male_smokers']]"
   ]
  },
  {
   "cell_type": "code",
   "execution_count": 12,
   "id": "e8e0d5f4",
   "metadata": {},
   "outputs": [
    {
     "data": {
      "text/plain": [
       "date                       datetime64[ns]\n",
       "total_cases                       float64\n",
       "new_cases                         float64\n",
       "total_deaths                      float64\n",
       "new_deaths                        float64\n",
       "new_tests                         float64\n",
       "total_tests                       float64\n",
       "total_vaccinations                float64\n",
       "people_vaccinated                 float64\n",
       "people_fully_vaccinated           float64\n",
       "population                        float64\n",
       "population_density                float64\n",
       "median_age                        float64\n",
       "aged_65_older                     float64\n",
       "aged_70_older                     float64\n",
       "diabetes_prevalence               float64\n",
       "female_smokers                    float64\n",
       "male_smokers                      float64\n",
       "dtype: object"
      ]
     },
     "execution_count": 12,
     "metadata": {},
     "output_type": "execute_result"
    }
   ],
   "source": [
    "df.dtypes"
   ]
  },
  {
   "cell_type": "code",
   "execution_count": 18,
   "id": "3bc306c0",
   "metadata": {},
   "outputs": [],
   "source": [
    "df=df.fillna(0)"
   ]
  },
  {
   "cell_type": "code",
   "execution_count": 19,
   "id": "d9ea3c62",
   "metadata": {},
   "outputs": [
    {
     "data": {
      "text/html": [
       "<div>\n",
       "<style scoped>\n",
       "    .dataframe tbody tr th:only-of-type {\n",
       "        vertical-align: middle;\n",
       "    }\n",
       "\n",
       "    .dataframe tbody tr th {\n",
       "        vertical-align: top;\n",
       "    }\n",
       "\n",
       "    .dataframe thead th {\n",
       "        text-align: right;\n",
       "    }\n",
       "</style>\n",
       "<table border=\"1\" class=\"dataframe\">\n",
       "  <thead>\n",
       "    <tr style=\"text-align: right;\">\n",
       "      <th></th>\n",
       "      <th>total_cases</th>\n",
       "      <th>new_cases</th>\n",
       "      <th>total_deaths</th>\n",
       "      <th>new_deaths</th>\n",
       "      <th>new_tests</th>\n",
       "      <th>total_tests</th>\n",
       "      <th>total_vaccinations</th>\n",
       "      <th>people_vaccinated</th>\n",
       "      <th>people_fully_vaccinated</th>\n",
       "      <th>population</th>\n",
       "      <th>population_density</th>\n",
       "      <th>median_age</th>\n",
       "      <th>aged_65_older</th>\n",
       "      <th>aged_70_older</th>\n",
       "      <th>diabetes_prevalence</th>\n",
       "      <th>female_smokers</th>\n",
       "      <th>male_smokers</th>\n",
       "    </tr>\n",
       "    <tr>\n",
       "      <th>date</th>\n",
       "      <th></th>\n",
       "      <th></th>\n",
       "      <th></th>\n",
       "      <th></th>\n",
       "      <th></th>\n",
       "      <th></th>\n",
       "      <th></th>\n",
       "      <th></th>\n",
       "      <th></th>\n",
       "      <th></th>\n",
       "      <th></th>\n",
       "      <th></th>\n",
       "      <th></th>\n",
       "      <th></th>\n",
       "      <th></th>\n",
       "      <th></th>\n",
       "      <th></th>\n",
       "    </tr>\n",
       "  </thead>\n",
       "  <tbody>\n",
       "    <tr>\n",
       "      <th>2020-03-13</th>\n",
       "      <td>4.0</td>\n",
       "      <td>4.0</td>\n",
       "      <td>0.0</td>\n",
       "      <td>0.0</td>\n",
       "      <td>0.0</td>\n",
       "      <td>126.0</td>\n",
       "      <td>0.0</td>\n",
       "      <td>0.0</td>\n",
       "      <td>0.0</td>\n",
       "      <td>18994958.0</td>\n",
       "      <td>6.681</td>\n",
       "      <td>30.6</td>\n",
       "      <td>6.991</td>\n",
       "      <td>4.625</td>\n",
       "      <td>7.11</td>\n",
       "      <td>7.0</td>\n",
       "      <td>43.1</td>\n",
       "    </tr>\n",
       "    <tr>\n",
       "      <th>2020-03-14</th>\n",
       "      <td>6.0</td>\n",
       "      <td>2.0</td>\n",
       "      <td>0.0</td>\n",
       "      <td>0.0</td>\n",
       "      <td>319.0</td>\n",
       "      <td>445.0</td>\n",
       "      <td>0.0</td>\n",
       "      <td>0.0</td>\n",
       "      <td>0.0</td>\n",
       "      <td>18994958.0</td>\n",
       "      <td>6.681</td>\n",
       "      <td>30.6</td>\n",
       "      <td>6.991</td>\n",
       "      <td>4.625</td>\n",
       "      <td>7.11</td>\n",
       "      <td>7.0</td>\n",
       "      <td>43.1</td>\n",
       "    </tr>\n",
       "    <tr>\n",
       "      <th>2020-03-15</th>\n",
       "      <td>9.0</td>\n",
       "      <td>3.0</td>\n",
       "      <td>0.0</td>\n",
       "      <td>0.0</td>\n",
       "      <td>207.0</td>\n",
       "      <td>652.0</td>\n",
       "      <td>0.0</td>\n",
       "      <td>0.0</td>\n",
       "      <td>0.0</td>\n",
       "      <td>18994958.0</td>\n",
       "      <td>6.681</td>\n",
       "      <td>30.6</td>\n",
       "      <td>6.991</td>\n",
       "      <td>4.625</td>\n",
       "      <td>7.11</td>\n",
       "      <td>7.0</td>\n",
       "      <td>43.1</td>\n",
       "    </tr>\n",
       "    <tr>\n",
       "      <th>2020-03-16</th>\n",
       "      <td>10.0</td>\n",
       "      <td>1.0</td>\n",
       "      <td>0.0</td>\n",
       "      <td>0.0</td>\n",
       "      <td>386.0</td>\n",
       "      <td>1038.0</td>\n",
       "      <td>0.0</td>\n",
       "      <td>0.0</td>\n",
       "      <td>0.0</td>\n",
       "      <td>18994958.0</td>\n",
       "      <td>6.681</td>\n",
       "      <td>30.6</td>\n",
       "      <td>6.991</td>\n",
       "      <td>4.625</td>\n",
       "      <td>7.11</td>\n",
       "      <td>7.0</td>\n",
       "      <td>43.1</td>\n",
       "    </tr>\n",
       "    <tr>\n",
       "      <th>2020-03-17</th>\n",
       "      <td>33.0</td>\n",
       "      <td>23.0</td>\n",
       "      <td>0.0</td>\n",
       "      <td>0.0</td>\n",
       "      <td>932.0</td>\n",
       "      <td>1970.0</td>\n",
       "      <td>0.0</td>\n",
       "      <td>0.0</td>\n",
       "      <td>0.0</td>\n",
       "      <td>18994958.0</td>\n",
       "      <td>6.681</td>\n",
       "      <td>30.6</td>\n",
       "      <td>6.991</td>\n",
       "      <td>4.625</td>\n",
       "      <td>7.11</td>\n",
       "      <td>7.0</td>\n",
       "      <td>43.1</td>\n",
       "    </tr>\n",
       "  </tbody>\n",
       "</table>\n",
       "</div>"
      ],
      "text/plain": [
       "            total_cases  new_cases  total_deaths  new_deaths  new_tests  \\\n",
       "date                                                                      \n",
       "2020-03-13          4.0        4.0           0.0         0.0        0.0   \n",
       "2020-03-14          6.0        2.0           0.0         0.0      319.0   \n",
       "2020-03-15          9.0        3.0           0.0         0.0      207.0   \n",
       "2020-03-16         10.0        1.0           0.0         0.0      386.0   \n",
       "2020-03-17         33.0       23.0           0.0         0.0      932.0   \n",
       "\n",
       "            total_tests  total_vaccinations  people_vaccinated  \\\n",
       "date                                                             \n",
       "2020-03-13        126.0                 0.0                0.0   \n",
       "2020-03-14        445.0                 0.0                0.0   \n",
       "2020-03-15        652.0                 0.0                0.0   \n",
       "2020-03-16       1038.0                 0.0                0.0   \n",
       "2020-03-17       1970.0                 0.0                0.0   \n",
       "\n",
       "            people_fully_vaccinated  population  population_density  \\\n",
       "date                                                                  \n",
       "2020-03-13                      0.0  18994958.0               6.681   \n",
       "2020-03-14                      0.0  18994958.0               6.681   \n",
       "2020-03-15                      0.0  18994958.0               6.681   \n",
       "2020-03-16                      0.0  18994958.0               6.681   \n",
       "2020-03-17                      0.0  18994958.0               6.681   \n",
       "\n",
       "            median_age  aged_65_older  aged_70_older  diabetes_prevalence  \\\n",
       "date                                                                        \n",
       "2020-03-13        30.6          6.991          4.625                 7.11   \n",
       "2020-03-14        30.6          6.991          4.625                 7.11   \n",
       "2020-03-15        30.6          6.991          4.625                 7.11   \n",
       "2020-03-16        30.6          6.991          4.625                 7.11   \n",
       "2020-03-17        30.6          6.991          4.625                 7.11   \n",
       "\n",
       "            female_smokers  male_smokers  \n",
       "date                                      \n",
       "2020-03-13             7.0          43.1  \n",
       "2020-03-14             7.0          43.1  \n",
       "2020-03-15             7.0          43.1  \n",
       "2020-03-16             7.0          43.1  \n",
       "2020-03-17             7.0          43.1  "
      ]
     },
     "execution_count": 19,
     "metadata": {},
     "output_type": "execute_result"
    }
   ],
   "source": [
    "# новый индекс\n",
    "df.set_index('date',inplace=True)\n",
    "df.index.freq = 'D'\n",
    "df.head()"
   ]
  },
  {
   "cell_type": "code",
   "execution_count": 20,
   "id": "35ba0f37",
   "metadata": {},
   "outputs": [
    {
     "data": {
      "image/png": "[encoded data removed]",
      "text/plain": [
       "<Figure size 864x432 with 1 Axes>"
      ]
     },
     "metadata": {
      "needs_background": "light"
     },
     "output_type": "display_data"
    }
   ],
   "source": [
    "ax = df['total_cases'].plot(figsize=(12,6))\n",
    "ax.autoscale(axis='x',tight=True)\n",
    "#ax.set(xlabel=xlabel, ylabel=ylabel);"
   ]
  },
  {
   "cell_type": "code",
   "execution_count": 21,
   "id": "fee973e8",
   "metadata": {},
   "outputs": [
    {
     "data": {
      "image/png": "[encoded data removed]",
      "text/plain": [
       "<Figure size 432x288 with 4 Axes>"
      ]
     },
     "metadata": {
      "needs_background": "light"
     },
     "output_type": "display_data"
    }
   ],
   "source": [
    "result = seasonal_decompose(df['total_cases'], model='add')\n",
    "result.plot();"
   ]
  }
 ],
 "metadata": {
  "kernelspec": {
   "display_name": "Python 3",
   "language": "python",
   "name": "python3"
  },
  "language_info": {
   "codemirror_mode": {
    "name": "ipython",
    "version": 3
   },
   "file_extension": ".py",
   "mimetype": "text/x-python",
   "name": "python",
   "nbconvert_exporter": "python",
   "pygments_lexer": "ipython3",
   "version": "3.8.8"
  }
 },
 "nbformat": 4,
 "nbformat_minor": 5
}
